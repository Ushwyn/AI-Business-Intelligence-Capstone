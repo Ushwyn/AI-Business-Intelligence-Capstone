{
 "cells": [
  {
   "cell_type": "markdown",
   "id": "0d8a14f5-413a-4564-b4e4-57eb57ae82e8",
   "metadata": {},
   "source": [
    "1. DATA PREPROCESSING & EXPLORATORY DATA ANALYSIS"
   ]
  },
  {
   "cell_type": "code",
   "execution_count": 2,
   "id": "5eebd2da-3f39-4ba4-8b39-e3df31d9e148",
   "metadata": {},
   "outputs": [],
   "source": [
    "import pandas as pd\n",
    "import numpy as np\n",
    "import seaborn as sns\n",
    "import matplotlib.pyplot as plt"
   ]
  },
  {
   "cell_type": "code",
   "execution_count": 3,
   "id": "fbb876a2-53ad-403a-b0ac-feec5ade7701",
   "metadata": {},
   "outputs": [
    {
     "data": {
      "text/plain": [
       "True"
      ]
     },
     "execution_count": 3,
     "metadata": {},
     "output_type": "execute_result"
    }
   ],
   "source": [
    "from sentence_transformers import SentenceTransformer\n",
    "import faiss\n",
    "from langchain.vectorstores import FAISS\n",
    "from langchain_community.embeddings import HuggingFaceEmbeddings\n",
    "from langchain_community.llms import HuggingFaceHub\n",
    "from langchain.chains import RetrievalQA\n",
    "from langchain.docstore.document import Document\n",
    "import os\n",
    "from dotenv import load_dotenv\n",
    "load_dotenv()  # Loads variables from .env file"
   ]
  },
  {
   "cell_type": "code",
   "execution_count": 4,
   "id": "24bae8c7-0642-47b0-a916-90a1bdc381a5",
   "metadata": {},
   "outputs": [],
   "source": [
    "from langchain.document_loaders import PyPDFLoader\n",
    "from langchain.text_splitter import RecursiveCharacterTextSplitter\n",
    "import os"
   ]
  },
  {
   "cell_type": "code",
   "execution_count": 5,
   "id": "1d658111-0207-4d6c-b09f-b9a355e3fa8e",
   "metadata": {},
   "outputs": [
    {
     "data": {
      "text/plain": [
       "['AI business model innovation.pdf',\n",
       " 'BI approaches.pdf',\n",
       " 'Time-Series-Data-Prediction-using-IoT-and-Machine-Le_2020_Procedia-Computer-.pdf',\n",
       " 'Walmarts sales data analysis.pdf']"
      ]
     },
     "execution_count": 5,
     "metadata": {},
     "output_type": "execute_result"
    }
   ],
   "source": [
    "# list all the PDFs in the PDF Folder\n",
    "os.listdir('PDF Folder')"
   ]
  },
  {
   "cell_type": "code",
   "execution_count": 6,
   "id": "87dc9365-4d14-4be3-b3b1-41f47f620baf",
   "metadata": {},
   "outputs": [],
   "source": [
    "pdf_folder = 'PDF Folder'\n",
    "documents = []\n",
    "for file in os.listdir(pdf_folder):\n",
    "    if file.endswith('.pdf'):\n",
    "        loader = PyPDFLoader(os.path.join(pdf_folder, file))\n",
    "        documents.extend(loader.load())"
   ]
  },
  {
   "cell_type": "code",
   "execution_count": 7,
   "id": "c8d0bfef-ba3d-4b1f-940c-ae7728636db0",
   "metadata": {},
   "outputs": [
    {
     "name": "stdout",
     "output_type": "stream",
     "text": [
      "Total number of text chunks: 301\n",
      "First chunk example:\n",
      "ARTICLE INFO  \n",
      "Keywords: \n",
      "Business model innovation \n",
      "Artificial intelligence \n",
      "Value proposition \n",
      "AI-driven BMI \n",
      "Systematic literature review \n",
      "ABSTRACT  \n",
      "Recent years have seen a surge in research on artificial intelligence (AI)-driven business model innovation (BMI), \n",
      "reflecting its profound impact across industries. However, the field ’ s current state remains fragmented due to \n",
      "varied conceptual lenses and units of analysis. Existing literature predominantly emphasizes the technological \n",
      "aspec...\n"
     ]
    }
   ],
   "source": [
    "text_splitter = RecursiveCharacterTextSplitter(chunk_size=1000, chunk_overlap=200)\n",
    "texts = text_splitter.split_documents(documents)\n",
    "\n",
    "print(f\"Total number of text chunks: {len(texts)}\")\n",
    "print(\"First chunk example:\")\n",
    "print(texts[1].page_content[:500] + \"...\")"
   ]
  },
  {
   "cell_type": "code",
   "execution_count": 8,
   "id": "bf614ee8-7948-401c-ba92-ff97e002a69e",
   "metadata": {},
   "outputs": [
    {
     "name": "stdout",
     "output_type": "stream",
     "text": [
      "Processed texts saved to 'processed_texts.pkl'\n"
     ]
    }
   ],
   "source": [
    "import pickle\n",
    "with open('processed_texts.pkl', 'wb') as f:\n",
    "    pickle.dump(texts, f)\n",
    "print(\"Processed texts saved to 'processed_texts.pkl'\")"
   ]
  },
  {
   "cell_type": "code",
   "execution_count": 9,
   "id": "06d3da4d-fd8f-411d-95ea-e5220267f2e5",
   "metadata": {},
   "outputs": [],
   "source": [
    "# Loading the dataset"
   ]
  },
  {
   "cell_type": "code",
   "execution_count": 10,
   "id": "b7e8f2fe-8421-4554-98bf-cbb57f8bc3e1",
   "metadata": {},
   "outputs": [],
   "source": [
    "df = pd.read_csv('sales_data.csv')"
   ]
  },
  {
   "cell_type": "code",
   "execution_count": 11,
   "id": "81611f43-a84a-4cc7-8981-c95b6f866808",
   "metadata": {},
   "outputs": [],
   "source": [
    "df['Date'] = pd.to_datetime(df['Date'])  # Ensure Date is datetime and parsed"
   ]
  },
  {
   "cell_type": "code",
   "execution_count": 12,
   "id": "fe3dea6d-bb30-457c-a5c3-6054b0dcd507",
   "metadata": {},
   "outputs": [
    {
     "data": {
      "text/html": [
       "<div>\n",
       "<style scoped>\n",
       "    .dataframe tbody tr th:only-of-type {\n",
       "        vertical-align: middle;\n",
       "    }\n",
       "\n",
       "    .dataframe tbody tr th {\n",
       "        vertical-align: top;\n",
       "    }\n",
       "\n",
       "    .dataframe thead th {\n",
       "        text-align: right;\n",
       "    }\n",
       "</style>\n",
       "<table border=\"1\" class=\"dataframe\">\n",
       "  <thead>\n",
       "    <tr style=\"text-align: right;\">\n",
       "      <th></th>\n",
       "      <th>Date</th>\n",
       "      <th>Product</th>\n",
       "      <th>Region</th>\n",
       "      <th>Sales</th>\n",
       "      <th>Customer_Age</th>\n",
       "      <th>Customer_Gender</th>\n",
       "      <th>Customer_Satisfaction</th>\n",
       "    </tr>\n",
       "  </thead>\n",
       "  <tbody>\n",
       "    <tr>\n",
       "      <th>0</th>\n",
       "      <td>2022-01-01</td>\n",
       "      <td>Widget C</td>\n",
       "      <td>South</td>\n",
       "      <td>786</td>\n",
       "      <td>26</td>\n",
       "      <td>Male</td>\n",
       "      <td>2.874407</td>\n",
       "    </tr>\n",
       "    <tr>\n",
       "      <th>1</th>\n",
       "      <td>2022-01-02</td>\n",
       "      <td>Widget D</td>\n",
       "      <td>East</td>\n",
       "      <td>850</td>\n",
       "      <td>29</td>\n",
       "      <td>Male</td>\n",
       "      <td>3.365205</td>\n",
       "    </tr>\n",
       "    <tr>\n",
       "      <th>2</th>\n",
       "      <td>2022-01-03</td>\n",
       "      <td>Widget A</td>\n",
       "      <td>North</td>\n",
       "      <td>871</td>\n",
       "      <td>40</td>\n",
       "      <td>Female</td>\n",
       "      <td>4.547364</td>\n",
       "    </tr>\n",
       "    <tr>\n",
       "      <th>3</th>\n",
       "      <td>2022-01-04</td>\n",
       "      <td>Widget C</td>\n",
       "      <td>South</td>\n",
       "      <td>464</td>\n",
       "      <td>31</td>\n",
       "      <td>Male</td>\n",
       "      <td>4.555420</td>\n",
       "    </tr>\n",
       "    <tr>\n",
       "      <th>4</th>\n",
       "      <td>2022-01-05</td>\n",
       "      <td>Widget C</td>\n",
       "      <td>South</td>\n",
       "      <td>262</td>\n",
       "      <td>50</td>\n",
       "      <td>Female</td>\n",
       "      <td>3.982935</td>\n",
       "    </tr>\n",
       "  </tbody>\n",
       "</table>\n",
       "</div>"
      ],
      "text/plain": [
       "        Date   Product Region  Sales  Customer_Age Customer_Gender  \\\n",
       "0 2022-01-01  Widget C  South    786            26            Male   \n",
       "1 2022-01-02  Widget D   East    850            29            Male   \n",
       "2 2022-01-03  Widget A  North    871            40          Female   \n",
       "3 2022-01-04  Widget C  South    464            31            Male   \n",
       "4 2022-01-05  Widget C  South    262            50          Female   \n",
       "\n",
       "   Customer_Satisfaction  \n",
       "0               2.874407  \n",
       "1               3.365205  \n",
       "2               4.547364  \n",
       "3               4.555420  \n",
       "4               3.982935  "
      ]
     },
     "execution_count": 12,
     "metadata": {},
     "output_type": "execute_result"
    }
   ],
   "source": [
    "df.head() # shows first 5 rows"
   ]
  },
  {
   "cell_type": "code",
   "execution_count": 13,
   "id": "2a1a6b61-89d3-43f8-942a-74af88dc9260",
   "metadata": {},
   "outputs": [
    {
     "name": "stderr",
     "output_type": "stream",
     "text": [
      "C:\\Users\\hp\\AppData\\Local\\Temp\\ipykernel_29460\\1701153271.py:1: FutureWarning: Treating datetime data as categorical rather than numeric in `.describe` is deprecated and will be removed in a future version of pandas. Specify `datetime_is_numeric=True` to silence this warning and adopt the future behavior now.\n",
      "  df.describe(include='all') # statistical summary of dataset\n"
     ]
    },
    {
     "data": {
      "text/html": [
       "<div>\n",
       "<style scoped>\n",
       "    .dataframe tbody tr th:only-of-type {\n",
       "        vertical-align: middle;\n",
       "    }\n",
       "\n",
       "    .dataframe tbody tr th {\n",
       "        vertical-align: top;\n",
       "    }\n",
       "\n",
       "    .dataframe thead th {\n",
       "        text-align: right;\n",
       "    }\n",
       "</style>\n",
       "<table border=\"1\" class=\"dataframe\">\n",
       "  <thead>\n",
       "    <tr style=\"text-align: right;\">\n",
       "      <th></th>\n",
       "      <th>Date</th>\n",
       "      <th>Product</th>\n",
       "      <th>Region</th>\n",
       "      <th>Sales</th>\n",
       "      <th>Customer_Age</th>\n",
       "      <th>Customer_Gender</th>\n",
       "      <th>Customer_Satisfaction</th>\n",
       "    </tr>\n",
       "  </thead>\n",
       "  <tbody>\n",
       "    <tr>\n",
       "      <th>count</th>\n",
       "      <td>2500</td>\n",
       "      <td>2500</td>\n",
       "      <td>2500</td>\n",
       "      <td>2500.000000</td>\n",
       "      <td>2500.000000</td>\n",
       "      <td>2500</td>\n",
       "      <td>2500.000000</td>\n",
       "    </tr>\n",
       "    <tr>\n",
       "      <th>unique</th>\n",
       "      <td>2500</td>\n",
       "      <td>4</td>\n",
       "      <td>4</td>\n",
       "      <td>NaN</td>\n",
       "      <td>NaN</td>\n",
       "      <td>2</td>\n",
       "      <td>NaN</td>\n",
       "    </tr>\n",
       "    <tr>\n",
       "      <th>top</th>\n",
       "      <td>2022-01-01 00:00:00</td>\n",
       "      <td>Widget A</td>\n",
       "      <td>West</td>\n",
       "      <td>NaN</td>\n",
       "      <td>NaN</td>\n",
       "      <td>Female</td>\n",
       "      <td>NaN</td>\n",
       "    </tr>\n",
       "    <tr>\n",
       "      <th>freq</th>\n",
       "      <td>1</td>\n",
       "      <td>656</td>\n",
       "      <td>644</td>\n",
       "      <td>NaN</td>\n",
       "      <td>NaN</td>\n",
       "      <td>1256</td>\n",
       "      <td>NaN</td>\n",
       "    </tr>\n",
       "    <tr>\n",
       "      <th>first</th>\n",
       "      <td>2022-01-01 00:00:00</td>\n",
       "      <td>NaN</td>\n",
       "      <td>NaN</td>\n",
       "      <td>NaN</td>\n",
       "      <td>NaN</td>\n",
       "      <td>NaN</td>\n",
       "      <td>NaN</td>\n",
       "    </tr>\n",
       "    <tr>\n",
       "      <th>last</th>\n",
       "      <td>2028-11-04 00:00:00</td>\n",
       "      <td>NaN</td>\n",
       "      <td>NaN</td>\n",
       "      <td>NaN</td>\n",
       "      <td>NaN</td>\n",
       "      <td>NaN</td>\n",
       "      <td>NaN</td>\n",
       "    </tr>\n",
       "    <tr>\n",
       "      <th>mean</th>\n",
       "      <td>NaN</td>\n",
       "      <td>NaN</td>\n",
       "      <td>NaN</td>\n",
       "      <td>553.288000</td>\n",
       "      <td>43.332800</td>\n",
       "      <td>NaN</td>\n",
       "      <td>3.025869</td>\n",
       "    </tr>\n",
       "    <tr>\n",
       "      <th>std</th>\n",
       "      <td>NaN</td>\n",
       "      <td>NaN</td>\n",
       "      <td>NaN</td>\n",
       "      <td>260.101758</td>\n",
       "      <td>14.846758</td>\n",
       "      <td>NaN</td>\n",
       "      <td>1.156981</td>\n",
       "    </tr>\n",
       "    <tr>\n",
       "      <th>min</th>\n",
       "      <td>NaN</td>\n",
       "      <td>NaN</td>\n",
       "      <td>NaN</td>\n",
       "      <td>100.000000</td>\n",
       "      <td>18.000000</td>\n",
       "      <td>NaN</td>\n",
       "      <td>1.005422</td>\n",
       "    </tr>\n",
       "    <tr>\n",
       "      <th>25%</th>\n",
       "      <td>NaN</td>\n",
       "      <td>NaN</td>\n",
       "      <td>NaN</td>\n",
       "      <td>324.750000</td>\n",
       "      <td>31.000000</td>\n",
       "      <td>NaN</td>\n",
       "      <td>2.056014</td>\n",
       "    </tr>\n",
       "    <tr>\n",
       "      <th>50%</th>\n",
       "      <td>NaN</td>\n",
       "      <td>NaN</td>\n",
       "      <td>NaN</td>\n",
       "      <td>552.500000</td>\n",
       "      <td>43.000000</td>\n",
       "      <td>NaN</td>\n",
       "      <td>3.049480</td>\n",
       "    </tr>\n",
       "    <tr>\n",
       "      <th>75%</th>\n",
       "      <td>NaN</td>\n",
       "      <td>NaN</td>\n",
       "      <td>NaN</td>\n",
       "      <td>779.000000</td>\n",
       "      <td>56.000000</td>\n",
       "      <td>NaN</td>\n",
       "      <td>4.042481</td>\n",
       "    </tr>\n",
       "    <tr>\n",
       "      <th>max</th>\n",
       "      <td>NaN</td>\n",
       "      <td>NaN</td>\n",
       "      <td>NaN</td>\n",
       "      <td>999.000000</td>\n",
       "      <td>69.000000</td>\n",
       "      <td>NaN</td>\n",
       "      <td>4.999006</td>\n",
       "    </tr>\n",
       "  </tbody>\n",
       "</table>\n",
       "</div>"
      ],
      "text/plain": [
       "                       Date   Product Region        Sales  Customer_Age  \\\n",
       "count                  2500      2500   2500  2500.000000   2500.000000   \n",
       "unique                 2500         4      4          NaN           NaN   \n",
       "top     2022-01-01 00:00:00  Widget A   West          NaN           NaN   \n",
       "freq                      1       656    644          NaN           NaN   \n",
       "first   2022-01-01 00:00:00       NaN    NaN          NaN           NaN   \n",
       "last    2028-11-04 00:00:00       NaN    NaN          NaN           NaN   \n",
       "mean                    NaN       NaN    NaN   553.288000     43.332800   \n",
       "std                     NaN       NaN    NaN   260.101758     14.846758   \n",
       "min                     NaN       NaN    NaN   100.000000     18.000000   \n",
       "25%                     NaN       NaN    NaN   324.750000     31.000000   \n",
       "50%                     NaN       NaN    NaN   552.500000     43.000000   \n",
       "75%                     NaN       NaN    NaN   779.000000     56.000000   \n",
       "max                     NaN       NaN    NaN   999.000000     69.000000   \n",
       "\n",
       "       Customer_Gender  Customer_Satisfaction  \n",
       "count             2500            2500.000000  \n",
       "unique               2                    NaN  \n",
       "top             Female                    NaN  \n",
       "freq              1256                    NaN  \n",
       "first              NaN                    NaN  \n",
       "last               NaN                    NaN  \n",
       "mean               NaN               3.025869  \n",
       "std                NaN               1.156981  \n",
       "min                NaN               1.005422  \n",
       "25%                NaN               2.056014  \n",
       "50%                NaN               3.049480  \n",
       "75%                NaN               4.042481  \n",
       "max                NaN               4.999006  "
      ]
     },
     "execution_count": 13,
     "metadata": {},
     "output_type": "execute_result"
    }
   ],
   "source": [
    "df.describe(include='all') # statistical summary of dataset"
   ]
  },
  {
   "cell_type": "code",
   "execution_count": 14,
   "id": "91536dc8-cac4-481e-a51a-241badf09949",
   "metadata": {},
   "outputs": [
    {
     "name": "stdout",
     "output_type": "stream",
     "text": [
      "<class 'pandas.core.frame.DataFrame'>\n",
      "RangeIndex: 2500 entries, 0 to 2499\n",
      "Data columns (total 7 columns):\n",
      " #   Column                 Non-Null Count  Dtype         \n",
      "---  ------                 --------------  -----         \n",
      " 0   Date                   2500 non-null   datetime64[ns]\n",
      " 1   Product                2500 non-null   object        \n",
      " 2   Region                 2500 non-null   object        \n",
      " 3   Sales                  2500 non-null   int64         \n",
      " 4   Customer_Age           2500 non-null   int64         \n",
      " 5   Customer_Gender        2500 non-null   object        \n",
      " 6   Customer_Satisfaction  2500 non-null   float64       \n",
      "dtypes: datetime64[ns](1), float64(1), int64(2), object(3)\n",
      "memory usage: 136.8+ KB\n"
     ]
    }
   ],
   "source": [
    "df.info() # view dataset summary"
   ]
  },
  {
   "cell_type": "code",
   "execution_count": 15,
   "id": "4b9598b0-1fc2-4eb9-a9c6-bc805f0004d1",
   "metadata": {},
   "outputs": [
    {
     "name": "stdout",
     "output_type": "stream",
     "text": [
      "\n",
      "🔢 Numerical Columns: ['Sales', 'Customer_Age', 'Customer_Satisfaction']\n",
      "\n",
      "🔤 Categorical Columns: ['Product', 'Region', 'Customer_Gender']\n"
     ]
    }
   ],
   "source": [
    "# Distribution of numerical and categorical features\n",
    "numerical_cols = df.select_dtypes(include=[np.number]).columns.tolist()\n",
    "categorical_cols = df.select_dtypes(include=[object]).columns.tolist()\n",
    "\n",
    "print(\"\\n🔢 Numerical Columns:\", numerical_cols)\n",
    "print(\"\\n🔤 Categorical Columns:\", categorical_cols)"
   ]
  },
  {
   "cell_type": "code",
   "execution_count": 16,
   "id": "19c5bd8f-9449-4901-9fe3-718284983c4f",
   "metadata": {},
   "outputs": [
    {
     "name": "stdout",
     "output_type": "stream",
     "text": [
      "\n",
      "✅ Unique values in Product: ['Widget C' 'Widget D' 'Widget A' 'Widget B']\n",
      "\n",
      "✅ Unique values in Region: ['South' 'East' 'North' 'West']\n",
      "\n",
      "✅ Unique values in Customer_Gender: ['Male' 'Female']\n"
     ]
    }
   ],
   "source": [
    "# Unique values in key fields\n",
    "for col in ['Product', 'Region', 'Customer_Gender']:\n",
    "    print(f\"\\n✅ Unique values in {col}: {df[col].unique()}\")"
   ]
  },
  {
   "cell_type": "code",
   "execution_count": 17,
   "id": "f502d5f2-a859-48c4-b35e-a6ee90f24c2b",
   "metadata": {},
   "outputs": [
    {
     "name": "stdout",
     "output_type": "stream",
     "text": [
      "Date → 2500 unique values\n",
      "['2022-01-01T00:00:00.000000000' '2022-01-02T00:00:00.000000000'\n",
      " '2022-01-03T00:00:00.000000000' '2022-01-04T00:00:00.000000000'\n",
      " '2022-01-05T00:00:00.000000000'] \n",
      "\n",
      "Product → 4 unique values\n",
      "['Widget C' 'Widget D' 'Widget A' 'Widget B'] \n",
      "\n",
      "Region → 4 unique values\n",
      "['South' 'East' 'North' 'West'] \n",
      "\n",
      "Sales → 836 unique values\n",
      "[786 850 871 464 262] \n",
      "\n",
      "Customer_Age → 52 unique values\n",
      "[26 29 40 31 50] \n",
      "\n",
      "Customer_Gender → 2 unique values\n",
      "['Male' 'Female'] \n",
      "\n",
      "Customer_Satisfaction → 2500 unique values\n",
      "[2.87440724 3.3652046  4.54736361 4.55542039 3.98293493] \n",
      "\n"
     ]
    }
   ],
   "source": [
    "for col in df.columns:\n",
    "    print(f\"{col} → {df[col].nunique()} unique values\")\n",
    "    print(df[col].unique()[:5], \"\\n\")"
   ]
  },
  {
   "cell_type": "code",
   "execution_count": 18,
   "id": "728868d4-910c-4a30-b866-cd121c61d53c",
   "metadata": {},
   "outputs": [],
   "source": [
    "# Regional sales\n",
    "sales_region = df.groupby('Region')['Sales'].sum().sort_values(ascending=False)"
   ]
  },
  {
   "cell_type": "code",
   "execution_count": 19,
   "id": "c33b158f-e520-458d-bb3b-4dc0b81dde78",
   "metadata": {
    "scrolled": true
   },
   "outputs": [
    {
     "name": "stdout",
     "output_type": "stream",
     "text": [
      "\n",
      "Sales by Region:\n",
      " Region\n",
      "West     361383\n",
      "North    353025\n",
      "South    348516\n",
      "East     320296\n",
      "Name: Sales, dtype: int64\n"
     ]
    }
   ],
   "source": [
    "print(\"\\nSales by Region:\\n\", sales_region)"
   ]
  },
  {
   "cell_type": "code",
   "execution_count": 20,
   "id": "d129ebba-d112-40c4-ac8d-4b2b5cadd0e0",
   "metadata": {},
   "outputs": [
    {
     "name": "stdout",
     "output_type": "stream",
     "text": [
      "Monthly Sales:\n",
      "        Date  Sales          Month\n",
      "0 2022-01-31  18470   January 2022\n",
      "1 2022-02-28  15208  February 2022\n",
      "2 2022-03-31  14590     March 2022\n",
      "3 2022-04-30  13376     April 2022\n",
      "4 2022-05-31  16215       May 2022\n"
     ]
    }
   ],
   "source": [
    "# Sales Performance by Time Period ===\n",
    "monthly_sales = df.set_index('Date')['Sales'].resample('M').sum().reset_index()\n",
    "monthly_sales['Month'] = monthly_sales['Date'].dt.strftime('%B %Y')\n",
    "print(\"Monthly Sales:\")\n",
    "print(monthly_sales.head())"
   ]
  },
  {
   "cell_type": "code",
   "execution_count": 21,
   "id": "bb237e9a-f90c-4f08-8008-e93fa3e7d379",
   "metadata": {},
   "outputs": [],
   "source": [
    "# Total sales\n",
    "sales_total = df['Sales'].sum()"
   ]
  },
  {
   "cell_type": "code",
   "execution_count": 22,
   "id": "3212147a-a51c-4e8c-ac5e-994eca1049ed",
   "metadata": {},
   "outputs": [
    {
     "name": "stdout",
     "output_type": "stream",
     "text": [
      "Total Sales: 1383220\n"
     ]
    }
   ],
   "source": [
    "print(\"Total Sales:\", sales_total)"
   ]
  },
  {
   "cell_type": "code",
   "execution_count": 23,
   "id": "ac7d7f91-7cfa-42c4-a3c3-c88ca91315f0",
   "metadata": {},
   "outputs": [
    {
     "name": "stdout",
     "output_type": "stream",
     "text": [
      "\n",
      "Product Sales Summary:\n",
      "    Product     sum        mean  median         std\n",
      "0  Widget A  375235  572.004573   582.0  257.582101\n",
      "1  Widget B  346062  565.460784   570.0  260.212912\n",
      "2  Widget C  335069  540.433871   541.5  263.983086\n",
      "3  Widget D  326854  534.075163   536.0  257.299193\n"
     ]
    }
   ],
   "source": [
    "# Product and Regional Analysis\n",
    "product_sales = df.groupby('Product')['Sales'].agg(['sum', 'mean', 'median', 'std']).reset_index()\n",
    "region_sales = df.groupby('Region')['Sales'].agg(['sum', 'mean', 'median', 'std']).reset_index()\n",
    "print(\"\\nProduct Sales Summary:\")\n",
    "print(product_sales)"
   ]
  },
  {
   "cell_type": "code",
   "execution_count": 24,
   "id": "de923245-27de-40f3-95f8-b3798bb95f9b",
   "metadata": {},
   "outputs": [],
   "source": [
    "# Top selling products\n",
    "top_products = df.groupby('Product')['Sales'].sum().sort_values(ascending=False).head(5)"
   ]
  },
  {
   "cell_type": "code",
   "execution_count": 25,
   "id": "29e6b829-781b-4aa5-8281-b1416e1764a5",
   "metadata": {},
   "outputs": [
    {
     "name": "stdout",
     "output_type": "stream",
     "text": [
      "\n",
      "Top Products:\n",
      " Product\n",
      "Widget A    375235\n",
      "Widget B    346062\n",
      "Widget C    335069\n",
      "Widget D    326854\n",
      "Name: Sales, dtype: int64\n"
     ]
    }
   ],
   "source": [
    "print(\"\\nTop Products:\\n\", top_products)"
   ]
  },
  {
   "cell_type": "code",
   "execution_count": 26,
   "id": "4492189e-a930-4d89-8eef-dfe431664167",
   "metadata": {},
   "outputs": [
    {
     "name": "stdout",
     "output_type": "stream",
     "text": [
      "\n",
      "Demographic Sales Summary:\n",
      "   Age_Group Customer_Gender     sum        mean  median         std\n",
      "0        <18          Female       0         NaN     NaN         NaN\n",
      "1        <18            Male       0         NaN     NaN         NaN\n",
      "2      18-25          Female   96082  558.616279   578.5  256.067547\n",
      "3      18-25            Male   92829  583.830189   669.0  272.600700\n",
      "4      26-35          Female  135953  566.470833   551.0  259.700357\n",
      "5      26-35            Male  133731  541.421053   533.0  263.219330\n",
      "6      36-45          Female  136802  538.590551   550.5  259.963356\n",
      "7      36-45            Male  144448  541.003745   554.0  248.689324\n",
      "8      46-60          Female  198486  565.487179   555.0  251.606255\n",
      "9      46-60            Male  181186  542.473054   532.5  256.247108\n",
      "10       60+          Female  134728  563.715481   566.0  267.351173\n",
      "11       60+            Male  128975  544.198312   548.0  275.426170\n"
     ]
    }
   ],
   "source": [
    "# Customer Segmentation by Demographics (Age Group + Gender)\n",
    "bins = [0, 18, 25, 35, 45, 60, 100]\n",
    "labels = ['<18', '18-25', '26-35', '36-45', '46-60', '60+']\n",
    "df['Age_Group'] = pd.cut(df['Customer_Age'], bins=bins, labels=labels, right=False)\n",
    "\n",
    "demographic_sales = df.groupby(['Age_Group', 'Customer_Gender'])['Sales'] \\\n",
    "                      .agg(['sum', 'mean', 'median', 'std']).reset_index()\n",
    "print(\"\\nDemographic Sales Summary:\")\n",
    "print(demographic_sales)"
   ]
  },
  {
   "cell_type": "code",
   "execution_count": 27,
   "id": "9f26d417-af15-47ad-8f88-1e0ef4349ad6",
   "metadata": {},
   "outputs": [
    {
     "name": "stdout",
     "output_type": "stream",
     "text": [
      "\n",
      "Overall Stats:\n",
      "mean       553.288000\n",
      "median     552.500000\n",
      "std        260.101758\n",
      "min        100.000000\n",
      "max        999.000000\n",
      "count     2500.000000\n",
      "Name: Sales, dtype: float64\n"
     ]
    }
   ],
   "source": [
    "# Overall Statistical Measures \n",
    "overall_stats = df['Sales'].agg(['mean', 'median', 'std', 'min', 'max', 'count'])\n",
    "print(\"\\nOverall Stats:\")\n",
    "print(overall_stats)"
   ]
  },
  {
   "cell_type": "code",
   "execution_count": 28,
   "id": "83568453-f4d3-4078-bd94-a9a418617dd9",
   "metadata": {},
   "outputs": [
    {
     "data": {
      "image/png": "[encoded data removed]",
      "text/plain": [
       "<Figure size 1000x500 with 1 Axes>"
      ]
     },
     "metadata": {},
     "output_type": "display_data"
    }
   ],
   "source": [
    "# Visual overview of sales distribution\n",
    "plt.figure(figsize=(10, 5))\n",
    "sns.histplot(df['Sales'], bins=30, kde=True, color='skyblue')\n",
    "plt.title(\"Sales Distribution\")\n",
    "plt.xlabel(\"Sales Amount\")\n",
    "plt.ylabel(\"Frequency\")\n",
    "plt.grid(True)\n",
    "plt.tight_layout()\n",
    "plt.show()"
   ]
  },
  {
   "cell_type": "code",
   "execution_count": 29,
   "id": "9d3ccb25-2271-4cd9-a750-aa4569be82df",
   "metadata": {},
   "outputs": [
    {
     "data": {
      "image/png": "[encoded data removed]",
      "text/plain": [
       "<Figure size 1000x500 with 1 Axes>"
      ]
     },
     "metadata": {},
     "output_type": "display_data"
    }
   ],
   "source": [
    "# Visual distribution of Customer Age\n",
    "plt.figure(figsize=(10, 5))\n",
    "sns.histplot(df['Customer_Age'], bins=20, kde=True, color='salmon')\n",
    "plt.title(\"Customer Age Distribution\")\n",
    "plt.xlabel(\"Age\")\n",
    "plt.ylabel(\"Frequency\")\n",
    "plt.grid(True)\n",
    "plt.tight_layout()\n",
    "plt.show()"
   ]
  },
  {
   "cell_type": "code",
   "execution_count": 30,
   "id": "1b0f60e3-689c-4312-8fc3-4c9b57e6bc95",
   "metadata": {},
   "outputs": [
    {
     "data": {
      "image/png": "[encoded data removed]",
      "text/plain": [
       "<Figure size 1000x600 with 1 Axes>"
      ]
     },
     "metadata": {},
     "output_type": "display_data"
    }
   ],
   "source": [
    "# Sales by region\n",
    "# Sales by region\n",
    "region_sales = df.groupby('Region')['Sales'].sum().sort_values(ascending=False)\n",
    "\n",
    "plt.figure(figsize=(10,6))\n",
    "sns.barplot(x=region_sales.index, y=region_sales.values, palette=\"viridis\")\n",
    "plt.title(\"Total Sales by Region\")\n",
    "plt.ylabel(\"Sales (₹)\")\n",
    "plt.xlabel(\"Region\")\n",
    "plt.tight_layout()\n",
    "plt.show()"
   ]
  },
  {
   "cell_type": "code",
   "execution_count": 31,
   "id": "0a0dc570-ad87-4cac-958d-6156ffddcfdd",
   "metadata": {},
   "outputs": [
    {
     "data": {
      "image/png": "[encoded data removed]",
      "text/plain": [
       "<Figure size 1000x600 with 1 Axes>"
      ]
     },
     "metadata": {},
     "output_type": "display_data"
    }
   ],
   "source": [
    "# Customer Satisfaction per Product\n",
    "plt.figure(figsize=(10,6))\n",
    "sns.boxplot(data=df, x='Product', y='Customer_Satisfaction', palette=\"coolwarm\")\n",
    "plt.title(\"Customer Satisfaction by Product\")\n",
    "plt.ylabel(\"Satisfaction Score (0–5)\")\n",
    "plt.xlabel(\"Product\")\n",
    "plt.tight_layout()\n",
    "plt.show()"
   ]
  },
  {
   "cell_type": "code",
   "execution_count": 32,
   "id": "c7b9a4c3-580c-4389-8656-4beb2dd5262b",
   "metadata": {},
   "outputs": [
    {
     "data": {
      "image/png": "[encoded data removed]",
      "text/plain": [
       "<Figure size 1000x600 with 2 Axes>"
      ]
     },
     "metadata": {},
     "output_type": "display_data"
    }
   ],
   "source": [
    "# Heatmap: Product vs Region Sales\n",
    "pivot = df.pivot_table(index='Product', columns='Region', values='Sales', aggfunc='sum')\n",
    "\n",
    "plt.figure(figsize=(10,6))\n",
    "sns.heatmap(pivot, annot=True, fmt=\".0f\", cmap='YlGnBu')\n",
    "plt.title(\"Sales Heatmap: Product vs Region\")\n",
    "plt.ylabel(\"Product\")\n",
    "plt.xlabel(\"Region\")\n",
    "plt.tight_layout()\n",
    "plt.show()\n"
   ]
  },
  {
   "cell_type": "markdown",
   "id": "ed7921e8-5af6-459e-aa95-0f2575044873",
   "metadata": {},
   "source": [
    "2. Advanced Data Summary - Trends and Segments"
   ]
  },
  {
   "cell_type": "code",
   "execution_count": 34,
   "id": "8070f3a8-7e14-45ea-a05b-5f22ea8e559e",
   "metadata": {},
   "outputs": [
    {
     "name": "stdout",
     "output_type": "stream",
     "text": [
      "\n",
      "📈 Monthly Sales Performance:\n",
      "           Month  Sales\n",
      "0   January 2022  18470\n",
      "1  February 2022  15208\n",
      "2     March 2022  14590\n",
      "3     April 2022  13376\n",
      "4       May 2022  16215\n"
     ]
    }
   ],
   "source": [
    "# Sales Performance by Time Period (Monthly)\n",
    "monthly_sales = df.set_index('Date')['Sales'].resample('M').sum().reset_index()\n",
    "monthly_sales['Month'] = monthly_sales['Date'].dt.strftime('%B %Y')\n",
    "print(\"\\n📈 Monthly Sales Performance:\")\n",
    "print(monthly_sales[['Month', 'Sales']].head())"
   ]
  },
  {
   "cell_type": "code",
   "execution_count": 35,
   "id": "ee7093f6-19fa-48fb-a0a1-f06c3c6d172c",
   "metadata": {},
   "outputs": [
    {
     "name": "stdout",
     "output_type": "stream",
     "text": [
      "\n",
      "📦 Product-wise Sales Summary:\n",
      "    Product     sum        mean  median         std\n",
      "0  Widget A  375235  572.004573   582.0  257.582101\n",
      "1  Widget B  346062  565.460784   570.0  260.212912\n",
      "2  Widget C  335069  540.433871   541.5  263.983086\n",
      "3  Widget D  326854  534.075163   536.0  257.299193\n"
     ]
    }
   ],
   "source": [
    "# Product-wise Summary\n",
    "product_sales = df.groupby('Product')['Sales'].agg(['sum', 'mean', 'median', 'std']).reset_index()\n",
    "print(\"\\n📦 Product-wise Sales Summary:\")\n",
    "print(product_sales)"
   ]
  },
  {
   "cell_type": "code",
   "execution_count": 36,
   "id": "b2531cce-f535-4fba-b999-d38338f51125",
   "metadata": {},
   "outputs": [
    {
     "name": "stdout",
     "output_type": "stream",
     "text": [
      "\n",
      "🌍 Region-wise Sales Summary:\n",
      "  Region     sum        mean  median         std\n",
      "0   East  320296  543.796265   544.0  255.647163\n",
      "1  North  353025  552.464789   551.0  258.679432\n",
      "2  South  348516  554.961783   552.0  260.623468\n",
      "3   West  361383  561.153727   571.0  265.308939\n"
     ]
    }
   ],
   "source": [
    "# Region-wise Summary\n",
    "region_sales = df.groupby('Region')['Sales'].agg(['sum', 'mean', 'median', 'std']).reset_index()\n",
    "print(\"\\n🌍 Region-wise Sales Summary:\")\n",
    "print(region_sales)"
   ]
  },
  {
   "cell_type": "code",
   "execution_count": 37,
   "id": "d2b5cf3c-1885-44bd-88ea-94ac841921b7",
   "metadata": {},
   "outputs": [],
   "source": [
    "# Customer Segmentation by Demographics\n",
    "# Bin customer ages into defined segments\n",
    "bins = [0, 18, 25, 35, 45, 60, 100]\n",
    "labels = ['<18', '18-25', '26-35', '36-45', '46-60', '60+']\n",
    "df['Age_Group'] = pd.cut(df['Customer_Age'], bins=bins, labels=labels, right=False)"
   ]
  },
  {
   "cell_type": "code",
   "execution_count": 38,
   "id": "6a30bda4-ab37-4988-98f2-3d4b7dffaa9b",
   "metadata": {},
   "outputs": [
    {
     "name": "stdout",
     "output_type": "stream",
     "text": [
      "\n",
      "👥 Demographic Sales Summary:\n",
      "   Age_Group Customer_Gender     sum        mean  median         std\n",
      "0        <18          Female       0         NaN     NaN         NaN\n",
      "1        <18            Male       0         NaN     NaN         NaN\n",
      "2      18-25          Female   96082  558.616279   578.5  256.067547\n",
      "3      18-25            Male   92829  583.830189   669.0  272.600700\n",
      "4      26-35          Female  135953  566.470833   551.0  259.700357\n",
      "5      26-35            Male  133731  541.421053   533.0  263.219330\n",
      "6      36-45          Female  136802  538.590551   550.5  259.963356\n",
      "7      36-45            Male  144448  541.003745   554.0  248.689324\n",
      "8      46-60          Female  198486  565.487179   555.0  251.606255\n",
      "9      46-60            Male  181186  542.473054   532.5  256.247108\n",
      "10       60+          Female  134728  563.715481   566.0  267.351173\n",
      "11       60+            Male  128975  544.198312   548.0  275.426170\n"
     ]
    }
   ],
   "source": [
    "# Group by Age Group + Gender\n",
    "demographic_sales = df.groupby(['Age_Group', 'Customer_Gender'])['Sales'].agg(['sum', 'mean', 'median', 'std']).reset_index()\n",
    "print(\"\\n👥 Demographic Sales Summary:\")\n",
    "print(demographic_sales)"
   ]
  },
  {
   "cell_type": "code",
   "execution_count": 39,
   "id": "136b87d2-a37c-4e76-a05d-9f6dd51dd0bf",
   "metadata": {},
   "outputs": [
    {
     "name": "stdout",
     "output_type": "stream",
     "text": [
      "\n",
      "📐 Overall Sales Statistics:\n",
      "mean       553.288000\n",
      "median     552.500000\n",
      "std        260.101758\n",
      "min        100.000000\n",
      "max        999.000000\n",
      "count     2500.000000\n",
      "Name: Sales, dtype: float64\n"
     ]
    }
   ],
   "source": [
    "# Overall Descriptive Statistics\n",
    "overall_stats = df['Sales'].agg(['mean', 'median', 'std', 'min', 'max', 'count'])\n",
    "print(\"\\n📐 Overall Sales Statistics:\")\n",
    "print(overall_stats)\n"
   ]
  },
  {
   "cell_type": "code",
   "execution_count": 40,
   "id": "4db2b557-2b44-49f4-a09c-885737e1dd18",
   "metadata": {},
   "outputs": [],
   "source": [
    "def generate_advanced_data_summary(df):\n",
    "    \n",
    "    # Sales Analysis\n",
    "    total_sales = df['Sales'].sum()\n",
    "    avg_sale = df['Sales'].mean()\n",
    "    median_sale = df['Sales'].median()\n",
    "    sales_std = df['Sales'].std()\n",
    "\n",
    "    # Time-based Analysis\n",
    "    df['Month'] = df['Date'].dt.to_period('M')\n",
    "    monthly_sales = df.groupby('Month', observed=False)['Sales'].sum().sort_values(ascending=False)\n",
    "    best_month = monthly_sales.index[0]\n",
    "    worst_month = monthly_sales.index[-1]\n",
    "\n",
    "    # Product Analysis\n",
    "    product_sales = df.groupby('Product', observed=False)['Sales'].agg(['sum', 'count', 'mean'])\n",
    "    top_product = product_sales['sum'].idxmax()\n",
    "    most_sold_product = product_sales['count'].idxmax()\n",
    "\n",
    "    # Regional Analysis\n",
    "    region_sales = df.groupby('Region', observed=False)['Sales'].sum().sort_values(ascending=False)\n",
    "    best_region = region_sales.index[0]\n",
    "    worst_region = region_sales.index[-1]\n",
    "\n",
    "    # Customer Analysis\n",
    "    avg_satisfaction = df['Customer_Satisfaction'].mean()\n",
    "    satisfaction_std = df['Customer_Satisfaction'].std()\n",
    "\n",
    "    age_bins = [0, 25, 35, 45, 55, 100]\n",
    "    age_labels = ['18-25', '26-35', '36-45', '46-55', '55+']\n",
    "    df['Age_Group'] = pd.cut(df['Customer_Age'], bins=age_bins, labels=age_labels, right=False)\n",
    "    age_group_sales = df.groupby('Age_Group', observed=False)['Sales'].mean().sort_values(ascending=False)\n",
    "    best_age_group = age_group_sales.index[0]\n",
    "\n",
    "    # Gender Analysis\n",
    "    gender_sales = df.groupby('Customer_Gender', observed=False)['Sales'].mean()\n",
    "\n",
    "    summary = f\"\"\"\n",
    "    Advanced Sales Data Summary:\n",
    "\n",
    "    Overall Sales Metrics:\n",
    "    - Total Sales: ${total_sales:,.2f}\n",
    "    - Average Sale: ${avg_sale:.2f}\n",
    "    - Median Sale: ${median_sale:.2f}\n",
    "    - Sales Standard Deviation: ${sales_std:.2f}\n",
    "\n",
    "    Time-based Analysis:\n",
    "    - Best Performing Month: {best_month}\n",
    "    - Worst Performing Month: {worst_month}\n",
    "\n",
    "    Product Analysis:\n",
    "    - Top Selling Product (by value): {top_product}\n",
    "    - Most Frequently Sold Product: {most_sold_product}\n",
    "\n",
    "    Regional Performance:\n",
    "    - Best Performing Region: {best_region}\n",
    "    - Worst Performing Region: {worst_region}\n",
    "\n",
    "    Customer Insights:\n",
    "    - Average Customer Satisfaction: {avg_satisfaction:.2f}/5\n",
    "    - Customer Satisfaction Standard Deviation: {satisfaction_std:.2f}\n",
    "    - Best Performing Age Group: {best_age_group}\n",
    "    - Gender-based Average Sales: Male=${gender_sales['Male']:.2f}, Female=${gender_sales['Female']:.2f}\n",
    "\n",
    "\n",
    "    Key Observations:\n",
    "    1. The sales data shows significant variability with a standard deviation of ${sales_std:.2f}.\n",
    "    2. The {best_age_group} age group shows the highest average sales.\n",
    "    3. Regional performance varies significantly, with {best_region} outperforming {worst_region}.\n",
    "    4. The most valuable product ({top_product}) differs from the most frequently sold product ({most_sold_product}), suggesting potential for targeted marketing strategies.\n",
    "    \"\"\"\n",
    "\n",
    "    return summary"
   ]
  },
  {
   "cell_type": "code",
   "execution_count": 41,
   "id": "b4f9b4ba-b63f-43f1-8585-81f0a7c71f2a",
   "metadata": {},
   "outputs": [],
   "source": [
    "advanced_summary = generate_advanced_data_summary(df)"
   ]
  },
  {
   "cell_type": "markdown",
   "id": "7fd383b1-6ff0-4acc-84ff-222d28214e52",
   "metadata": {},
   "source": [
    "3: STRUCTURE INSIGHTS INTO TEXT CHUNKS FOR RAG"
   ]
  },
  {
   "cell_type": "code",
   "execution_count": 43,
   "id": "035c49c8-f38a-4ea8-b5de-9fbf4df1a744",
   "metadata": {},
   "outputs": [],
   "source": [
    "# Age Group and Gender Insights\n",
    "# Purpose: Convert key data summaries into natural language strings\n",
    "\n",
    "structured_knowledge = []  # ← Define the list before appending anything\n",
    "for _, row in demographic_sales.iterrows():\n",
    "    age = row['Age_Group']\n",
    "    gender = row['Customer_Gender']\n",
    "    total = row['sum']\n",
    "    if not np.isnan(total) and total > 0:\n",
    "        structured_knowledge.append(\n",
    "            f\"{gender} customers in age group {age} purchased products worth ₹{int(total):,}.\"\n",
    "        )"
   ]
  },
  {
   "cell_type": "code",
   "execution_count": 44,
   "id": "fc41ed93-32b4-479d-99a8-7d5cdc76df76",
   "metadata": {},
   "outputs": [],
   "source": [
    "# Region Sales Insights\n",
    "for _, row in region_sales.iterrows():\n",
    "    structured_knowledge.append(\n",
    "        f\"Region {row['Region']} had total sales of ₹{int(row['sum']):,}, with an average sale of ₹{int(row['mean']):,}.\"\n",
    "    )\n"
   ]
  },
  {
   "cell_type": "code",
   "execution_count": 45,
   "id": "ee752757-98e8-48a2-acc6-827de695470e",
   "metadata": {},
   "outputs": [],
   "source": [
    "# Product Sales Insights\n",
    "for _, row in product_sales.iterrows():\n",
    "    structured_knowledge.append(\n",
    "        f\"{row['Product']} recorded total sales of ₹{int(row['sum']):,}, with median ₹{int(row['median']):,} and std deviation ₹{int(row['std']):,}.\"\n",
    "    )\n"
   ]
  },
  {
   "cell_type": "code",
   "execution_count": 46,
   "id": "d365bef8-7218-4b25-9185-c521633e6c7b",
   "metadata": {},
   "outputs": [],
   "source": [
    "\n",
    "# Monthly Sales Performance Insights\n",
    "for _, row in monthly_sales.iterrows():\n",
    "    structured_knowledge.append(\n",
    "        f\"In {row['Month']}, total sales were ₹{int(row['Sales']):,}.\"\n",
    "    )\n"
   ]
  },
  {
   "cell_type": "code",
   "execution_count": 47,
   "id": "a530fa5d-1d6a-435a-a53f-d389abb1626a",
   "metadata": {},
   "outputs": [
    {
     "name": "stdout",
     "output_type": "stream",
     "text": [
      "\n",
      "🧾 Structured Knowledge Chunks:\n",
      "• Female customers in age group 18-25 purchased products worth ₹96,082.\n",
      "• Male customers in age group 18-25 purchased products worth ₹92,829.\n",
      "• Female customers in age group 26-35 purchased products worth ₹135,953.\n",
      "• Male customers in age group 26-35 purchased products worth ₹133,731.\n",
      "• Female customers in age group 36-45 purchased products worth ₹136,802.\n"
     ]
    }
   ],
   "source": [
    "\n",
    "# Preview of structured insights\n",
    "print(\"\\n🧾 Structured Knowledge Chunks:\")\n",
    "for insight in structured_knowledge[:5]:\n",
    "    print(\"•\", insight)"
   ]
  },
  {
   "cell_type": "code",
   "execution_count": 48,
   "id": "211c9cf9-bd55-4f05-b3d4-74b4e7a91be0",
   "metadata": {},
   "outputs": [
    {
     "name": "stdout",
     "output_type": "stream",
     "text": [
      "✅ Loaded 301 PDF chunks.\n"
     ]
    }
   ],
   "source": [
    "# PDF Processing Block\n",
    "from langchain.document_loaders import PyPDFLoader\n",
    "from langchain.text_splitter import RecursiveCharacterTextSplitter\n",
    "import os\n",
    "\n",
    "pdf_folder_path = \"PDF Folder\"\n",
    "all_docs = []\n",
    "\n",
    "for filename in os.listdir(pdf_folder_path):\n",
    "    if filename.endswith(\".pdf\"):\n",
    "        loader = PyPDFLoader(os.path.join(pdf_folder_path, filename))\n",
    "        pages = loader.load()\n",
    "        splitter = RecursiveCharacterTextSplitter(chunk_size=1000, chunk_overlap=200)\n",
    "        chunks = splitter.split_documents(pages)\n",
    "        all_docs.extend(chunks)\n",
    "\n",
    "print(f\"✅ Loaded {len(all_docs)} PDF chunks.\")\n",
    "\n",
    "# Combine PDFs with structured insights\n",
    "documents = structured_knowledge + all_docs\n"
   ]
  },
  {
   "cell_type": "markdown",
   "id": "f1e1df47-e466-43c6-8e98-28e911fad536",
   "metadata": {},
   "source": [
    "\n",
    "4. EMBEDDING KNOWLEDGE BASE WITH FAISS FOR RETRIEVAL\n"
   ]
  },
  {
   "cell_type": "markdown",
   "id": "1af52ef3-74c9-4ac1-98d9-3fb6498c8655",
   "metadata": {},
   "source": [
    "Install/Import Required Libraries "
   ]
  },
  {
   "cell_type": "code",
   "execution_count": 51,
   "id": "ea5b3e7c-10a1-4f79-b2bf-4d22db9f0302",
   "metadata": {
    "scrolled": true
   },
   "outputs": [
    {
     "name": "stderr",
     "output_type": "stream",
     "text": [
      "C:\\Users\\hp\\AppData\\Local\\Temp\\ipykernel_29460\\2892045461.py:17: LangChainDeprecationWarning: The class `HuggingFaceEmbeddings` was deprecated in LangChain 0.2.2 and will be removed in 1.0. An updated version of the class exists in the :class:`~langchain-huggingface package and should be used instead. To use it run `pip install -U :class:`~langchain-huggingface` and import as `from :class:`~langchain_huggingface import HuggingFaceEmbeddings``.\n",
      "  embedder = HuggingFaceEmbeddings(model_name=\"sentence-transformers/all-MiniLM-L6-v2\")\n"
     ]
    }
   ],
   "source": [
    "from langchain.docstore.document import Document\n",
    "\n",
    "# Final filtered list — always end up with plain Document objects\n",
    "final_documents = []\n",
    "\n",
    "for item in documents:\n",
    "    if isinstance(item, Document):\n",
    "        final_documents.append(item)\n",
    "    elif isinstance(item, str):\n",
    "        final_documents.append(Document(page_content=item))\n",
    "    elif isinstance(item, dict) and \"page_content\" in item:\n",
    "        final_documents.append(Document(page_content=item[\"page_content\"]))\n",
    "    else:\n",
    "        raise ValueError(f\"Unrecognized item in documents: {type(item)}\")\n",
    "\n",
    "\n",
    "embedder = HuggingFaceEmbeddings(model_name=\"sentence-transformers/all-MiniLM-L6-v2\")\n",
    "vectorstore = FAISS.from_documents(final_documents, embedder)\n"
   ]
  },
  {
   "cell_type": "code",
   "execution_count": 52,
   "id": "476938cc-3735-4871-b531-edac192f9820",
   "metadata": {},
   "outputs": [
    {
     "name": "stderr",
     "output_type": "stream",
     "text": [
      "Device set to use cpu\n",
      "C:\\Users\\hp\\AppData\\Local\\Temp\\ipykernel_29460\\1194147743.py:39: LangChainDeprecationWarning: The class `HuggingFacePipeline` was deprecated in LangChain 0.0.37 and will be removed in 1.0. An updated version of the class exists in the :class:`~langchain-huggingface package and should be used instead. To use it run `pip install -U :class:`~langchain-huggingface` and import as `from :class:`~langchain_huggingface import HuggingFacePipeline``.\n",
      "  llm = HuggingFacePipeline(pipeline=hf_pipeline)\n",
      "C:\\Users\\hp\\AppData\\Local\\Temp\\ipykernel_29460\\1194147743.py:42: LangChainDeprecationWarning: This function is deprecated. Refer to this guide on retrieval and question answering with sources: https://python.langchain.com/docs/how_to/qa_sources/\n",
      "See also the following migration guides for replacements based on `chain_type`:\n",
      "stuff: https://python.langchain.com/docs/versions/migrating_chains/stuff_docs_chain\n",
      "map_reduce: https://python.langchain.com/docs/versions/migrating_chains/map_reduce_chain\n",
      "refine: https://python.langchain.com/docs/versions/migrating_chains/refine_chain\n",
      "map_rerank: https://python.langchain.com/docs/versions/migrating_chains/map_rerank_docs_chain\n",
      "\n",
      "  qa_chain = load_qa_with_sources_chain(llm, chain_type=\"stuff\", prompt=prompt_template)\n"
     ]
    }
   ],
   "source": [
    "from langchain.prompts import PromptTemplate\n",
    "from langchain.chains.qa_with_sources import load_qa_with_sources_chain\n",
    "\n",
    "# This prompt must use the variable \"summaries\"\n",
    "prompt_template = PromptTemplate(\n",
    "    input_variables=[\"summaries\", \"question\"],\n",
    "    template=\"\"\"\n",
    "You are a smart AI business analyst. Use the provided summaries to answer the user's query.\n",
    "\n",
    "Summaries:\n",
    "{summaries}\n",
    "\n",
    "Question:\n",
    "{question}\n",
    "\n",
    "Answer:\"\"\"\n",
    ")\n",
    "\n",
    "from transformers import AutoTokenizer, AutoModelForSeq2SeqLM, pipeline\n",
    "from langchain_community.llms import HuggingFacePipeline\n",
    "\n",
    "model_id = \"google/flan-t5-base\"\n",
    "\n",
    "# Load tokenizer and model\n",
    "tokenizer = AutoTokenizer.from_pretrained(model_id)\n",
    "model = AutoModelForSeq2SeqLM.from_pretrained(model_id)\n",
    "\n",
    "# Create pipeline\n",
    "hf_pipeline = pipeline(\n",
    "    \"text2text-generation\",\n",
    "    model=model,\n",
    "    tokenizer=tokenizer,\n",
    "    max_length=512,\n",
    "    truncation=True,\n",
    "    do_sample=False\n",
    ")\n",
    "\n",
    "# Wrap in LangChain LLM interface\n",
    "llm = HuggingFacePipeline(pipeline=hf_pipeline)\n",
    "\n",
    "# Create a chain using that prompt\n",
    "qa_chain = load_qa_with_sources_chain(llm, chain_type=\"stuff\", prompt=prompt_template)\n"
   ]
  },
  {
   "cell_type": "code",
   "execution_count": 68,
   "id": "22cf7698-5e6c-456e-a9a2-dda5663ea496",
   "metadata": {},
   "outputs": [
    {
     "name": "stdout",
     "output_type": "stream",
     "text": [
      "Q: What was the sales trend in Q2?\n",
      "Answer: A systematic review and research agenda on AI-driven business model innovation: A systematic review and research agenda\n"
     ]
    }
   ],
   "source": [
    "input_documents = texts[:5]\n",
    "\n",
    "question = \"What was the sales trend in Q2?\"\n",
    "response = qa_chain.invoke({\n",
    "    \"input_documents\": input_documents,\n",
    "    \"question\": question\n",
    "})\n",
    "\n",
    "print(\"Q:\", question)\n",
    "print(\"Answer:\", response[\"output_text\"])\n"
   ]
  },
  {
   "cell_type": "markdown",
   "id": "d698193d-de70-4f19-85c1-7c3585df63c1",
   "metadata": {},
   "source": [
    "5. LLM AND RETRIEVAL QA SETUP "
   ]
  },
  {
   "cell_type": "markdown",
   "id": "3ddd9011-b569-43c2-a4e5-c87856c754bc",
   "metadata": {},
   "source": [
    "Load a Free LLM from HuggingFace"
   ]
  },
  {
   "cell_type": "code",
   "execution_count": 72,
   "id": "9615a245-d7ac-4269-88e5-6abdc5536dde",
   "metadata": {},
   "outputs": [],
   "source": [
    "from langchain.chains import RetrievalQA\n",
    "from langchain_community.llms import HuggingFacePipeline\n",
    "from transformers import AutoTokenizer, AutoModelForSeq2SeqLM, pipeline\n"
   ]
  },
  {
   "cell_type": "code",
   "execution_count": 74,
   "id": "6aeef8b6-1494-4d55-ae7f-bfd16e7119c9",
   "metadata": {},
   "outputs": [],
   "source": [
    "from langchain.chains.qa_with_sources import load_qa_with_sources_chain\n",
    "qa_chain = load_qa_with_sources_chain(llm, chain_type=\"stuff\", prompt=prompt_template)\n"
   ]
  },
  {
   "cell_type": "markdown",
   "id": "06746d52-5590-4ecb-a041-b86a865174b7",
   "metadata": {},
   "source": [
    "Build the FAISS Retriever (reuse existing vectorstore)"
   ]
  },
  {
   "cell_type": "code",
   "execution_count": 77,
   "id": "0c237e3e-ed08-41f2-8573-77f0b5425490",
   "metadata": {},
   "outputs": [
    {
     "name": "stderr",
     "output_type": "stream",
     "text": [
      "Device set to use cpu\n"
     ]
    }
   ],
   "source": [
    "# Choose a good Q&A model\n",
    "model_id = \"google/flan-t5-base\"\n",
    "\n",
    "# Load tokenizer and model\n",
    "tokenizer = AutoTokenizer.from_pretrained(model_id)\n",
    "model = AutoModelForSeq2SeqLM.from_pretrained(model_id)\n",
    "\n",
    "# Build a text2text generation pipeline\n",
    "hf_pipeline = pipeline(\n",
    "    \"text2text-generation\",\n",
    "    model=model,\n",
    "    tokenizer=tokenizer,\n",
    "    max_length=512,\n",
    "    truncation=True,         # ✨ THIS LINE\n",
    "    do_sample=False\n",
    ")\n",
    "\n",
    "\n",
    "# Wrap it in LangChain LLM class\n",
    "llm = HuggingFacePipeline(pipeline=hf_pipeline)\n"
   ]
  },
  {
   "cell_type": "markdown",
   "id": "299c7c89-a6a5-4284-b36a-146edef22094",
   "metadata": {},
   "source": [
    "Create the RetrievalQA Chain"
   ]
  },
  {
   "cell_type": "code",
   "execution_count": 80,
   "id": "7db93ee2-1a02-4690-a246-4322673ccfc2",
   "metadata": {},
   "outputs": [],
   "source": [
    "retriever = vectorstore.as_retriever()\n"
   ]
  },
  {
   "cell_type": "code",
   "execution_count": 82,
   "id": "0a47f187-6805-4bae-86eb-e4baeb67c2bf",
   "metadata": {},
   "outputs": [],
   "source": [
    "qa_chain = RetrievalQA.from_chain_type(\n",
    "    llm=llm,\n",
    "    retriever=retriever,\n",
    "    return_source_documents=True  # Optional, for traceability\n",
    ")\n"
   ]
  },
  {
   "cell_type": "code",
   "execution_count": 84,
   "id": "36fdc9bc-dbd0-484f-9c4d-f5fb966b3012",
   "metadata": {},
   "outputs": [
    {
     "name": "stdout",
     "output_type": "stream",
     "text": [
      "\n",
      "❓ Q: Which region had the highest sales?\n",
      "🤖 Model's Answer: Region East\n",
      "✅ Ground Truth: The North region recorded the highest total sales overall, especially in Q2.\n",
      "🧠 Evaluation by LLM: N/A\n",
      "🧾 Explanation: No reasoning available\n",
      "\n",
      "❓ Q: Which product had the best customer satisfaction?\n",
      "🤖 Model's Answer: Walmart’s sales data to make sense of the company as an overall retailer.\n",
      "✅ Ground Truth: Product A had the highest satisfaction rating, particularly in the South zone.\n",
      "🧠 Evaluation by LLM: N/A\n",
      "🧾 Explanation: No reasoning available\n"
     ]
    }
   ],
   "source": [
    "from langchain.evaluation.qa import QAEvalChain\n",
    "\n",
    "# Step 1: Define input QA examples\n",
    "examples = [\n",
    "    {\n",
    "        \"query\": \"Which region had the highest sales?\",\n",
    "        \"answer\": \"The North region recorded the highest total sales overall, especially in Q2.\"\n",
    "    },\n",
    "    {\n",
    "        \"query\": \"Which product had the best customer satisfaction?\",\n",
    "        \"answer\": \"Product A had the highest satisfaction rating, particularly in the South zone.\"\n",
    "    }\n",
    "]\n",
    "\n",
    "\n",
    "# Step 2: Use your QA chain to generate model responses\n",
    "predictions = []\n",
    "for ex in examples:\n",
    "    result = qa_chain.invoke({\"query\": ex[\"query\"]})[\"result\"]\n",
    "    predictions.append({\"query\": ex[\"query\"], \"result\": result})\n",
    "\n",
    "# Step 3: Run evaluation\n",
    "eval_chain = QAEvalChain.from_llm(llm)\n",
    "graded_outputs = eval_chain.evaluate(examples, predictions)\n",
    "\n",
    "# Step 4: Print results\n",
    "for i, grade in enumerate(graded_outputs):\n",
    "    print(f\"\\n❓ Q: {examples[i]['query']}\")\n",
    "    print(f\"🤖 Model's Answer: {predictions[i]['result']}\")\n",
    "    print(f\"✅ Ground Truth: {examples[i]['answer']}\")\n",
    "    print(f\"🧠 Evaluation by LLM: {grade.get('value', 'N/A')}\")\n",
    "    print(f\"🧾 Explanation: {grade.get('reasoning', 'No reasoning available')}\")\n",
    "\n"
   ]
  },
  {
   "cell_type": "code",
   "execution_count": 86,
   "id": "61e7bf0c-924e-47c8-b4ae-d97351140de3",
   "metadata": {},
   "outputs": [
    {
     "name": "stderr",
     "output_type": "stream",
     "text": [
      "C:\\Users\\hp\\AppData\\Local\\Temp\\ipykernel_29460\\91298580.py:3: LangChainDeprecationWarning: The method `Chain.__call__` was deprecated in langchain 0.1.0 and will be removed in 1.0. Use :meth:`~invoke` instead.\n",
      "  result = qa_chain(query)\n"
     ]
    },
    {
     "name": "stdout",
     "output_type": "stream",
     "text": [
      "🧠 Insight from LLM:\n",
      " Helpful\n",
      "\n",
      "📄 Source 1:\n",
      " Region South had total sales of ₹348,516, with an average sale of ₹554.\n",
      "\n",
      "📄 Source 2:\n",
      " Region North had total sales of ₹353,025, with an average sale of ₹552.\n",
      "\n",
      "📄 Source 3:\n",
      " Region East had total sales of ₹320,296, with an average sale of ₹543.\n",
      "\n",
      "📄 Source 4:\n",
      " Region West had total sales of ₹361,383, with an average sale of ₹561.\n"
     ]
    }
   ],
   "source": [
    "query = \"Which product had the highest sales in the South zone?\"\n",
    "\n",
    "result = qa_chain(query)\n",
    "\n",
    "print(\"🧠 Insight from LLM:\\n\", result['result'])\n",
    "\n",
    "# Optional: Display sources\n",
    "for i, doc in enumerate(result['source_documents']):\n",
    "    print(f\"\\n📄 Source {i+1}:\\n\", doc.page_content)\n"
   ]
  },
  {
   "cell_type": "markdown",
   "id": "5307e097-95cb-4ef3-b974-3f45c9819f72",
   "metadata": {},
   "source": [
    "6. MEMORY INTEGRATION"
   ]
  },
  {
   "cell_type": "code",
   "execution_count": 89,
   "id": "6ef3a6a7-f17b-4954-9533-80d1e0de2153",
   "metadata": {},
   "outputs": [
    {
     "name": "stderr",
     "output_type": "stream",
     "text": [
      "C:\\Users\\hp\\AppData\\Local\\Temp\\ipykernel_29460\\2612944351.py:5: LangChainDeprecationWarning: Please see the migration guide at: https://python.langchain.com/docs/versions/migrating_memory/\n",
      "  memory = ConversationBufferMemory(memory_key=\"chat_history\", return_messages=True)\n"
     ]
    },
    {
     "name": "stdout",
     "output_type": "stream",
     "text": [
      "Q1: Male customers in age group 36-45\n",
      "Q2: products worth 136,802.\n",
      "Q3: 92,829. Male customers in age group 18-25 purchased products worth 92,829. Male customers in age group 36-45 purchased products worth 144,448. Female customers in age group 36-45 purchased products worth 136,802.\n"
     ]
    }
   ],
   "source": [
    "from langchain.memory import ConversationBufferMemory\n",
    "from langchain.chains import ConversationalRetrievalChain\n",
    "\n",
    "# Add memory to track chat history\n",
    "memory = ConversationBufferMemory(memory_key=\"chat_history\", return_messages=True)\n",
    "\n",
    "# Conversational RAG chain\n",
    "conversational_chain = ConversationalRetrievalChain.from_llm(\n",
    "    llm=llm,\n",
    "    retriever=vectorstore.as_retriever(),\n",
    "    memory=memory,\n",
    ")\n",
    "\n",
    "# Test multi-turn dialogue\n",
    "response1 = conversational_chain({\"question\": \"Which age group buys the most?\"})\n",
    "print(\"Q1:\", response1[\"answer\"])\n",
    "\n",
    "response2 = conversational_chain({\"question\": \"What products do they prefer, give their name?\"})\n",
    "print(\"Q2:\", response2[\"answer\"])\n",
    "\n",
    "response3 = conversational_chain({\"question\": \"What are top-selling products, show them category wise?\"})\n",
    "print(\"Q3:\", response3[\"answer\"])"
   ]
  },
  {
   "cell_type": "markdown",
   "id": "e7ecbaac-4e0e-4dc9-87e6-672930ddc22c",
   "metadata": {},
   "source": [
    "7. STREAMLIT UI INTEGRATION"
   ]
  },
  {
   "cell_type": "code",
   "execution_count": 92,
   "id": "e32b9638-e04f-470a-a9f2-9d44d481bda7",
   "metadata": {},
   "outputs": [
    {
     "name": "stderr",
     "output_type": "stream",
     "text": [
      "2025-06-12 23:56:13.073 WARNING streamlit.runtime.scriptrunner_utils.script_run_context: Thread 'MainThread': missing ScriptRunContext! This warning can be ignored when running in bare mode.\n",
      "2025-06-12 23:56:13.217 \n",
      "  \u001b[33m\u001b[1mWarning:\u001b[0m to view this Streamlit app on a browser, run it with the following\n",
      "  command:\n",
      "\n",
      "    streamlit run C:\\Users\\hp\\anaconda3\\Lib\\site-packages\\ipykernel_launcher.py [ARGUMENTS]\n",
      "2025-06-12 23:56:13.219 Thread 'MainThread': missing ScriptRunContext! This warning can be ignored when running in bare mode.\n",
      "2025-06-12 23:56:13.220 Thread 'MainThread': missing ScriptRunContext! This warning can be ignored when running in bare mode.\n",
      "2025-06-12 23:56:13.220 Thread 'MainThread': missing ScriptRunContext! This warning can be ignored when running in bare mode.\n",
      "2025-06-12 23:56:13.221 Thread 'MainThread': missing ScriptRunContext! This warning can be ignored when running in bare mode.\n",
      "2025-06-12 23:56:13.222 Thread 'MainThread': missing ScriptRunContext! This warning can be ignored when running in bare mode.\n",
      "2025-06-12 23:56:13.223 Session state does not function when running a script without `streamlit run`\n",
      "2025-06-12 23:56:13.223 Thread 'MainThread': missing ScriptRunContext! This warning can be ignored when running in bare mode.\n",
      "2025-06-12 23:56:13.224 Thread 'MainThread': missing ScriptRunContext! This warning can be ignored when running in bare mode.\n"
     ]
    }
   ],
   "source": [
    "# app.py\n",
    "import streamlit as st\n",
    "\n",
    "st.title(\"📊 InsightForge: AI Business Intelligence Assistant\")\n",
    "\n",
    "query = st.text_input(\"What are our top-selling products?\")\n",
    "\n",
    "if query:\n",
    "    response = conversational_chain({\"question\": query})\n",
    "    st.markdown(\"### 💡 Insight\")\n",
    "    st.success(response[\"answer\"])\n"
   ]
  },
  {
   "cell_type": "code",
   "execution_count": 94,
   "id": "2ae8ff7c-d9ee-406c-8fde-98fb189818d9",
   "metadata": {},
   "outputs": [
    {
     "name": "stderr",
     "output_type": "stream",
     "text": [
      "2025-06-12 23:56:16.490 Thread 'MainThread': missing ScriptRunContext! This warning can be ignored when running in bare mode.\n",
      "2025-06-12 23:56:16.490 Thread 'MainThread': missing ScriptRunContext! This warning can be ignored when running in bare mode.\n",
      "2025-06-12 23:56:16.561 Thread 'MainThread': missing ScriptRunContext! This warning can be ignored when running in bare mode.\n",
      "2025-06-12 23:56:16.866 Thread 'MainThread': missing ScriptRunContext! This warning can be ignored when running in bare mode.\n",
      "2025-06-12 23:56:16.867 Thread 'MainThread': missing ScriptRunContext! This warning can be ignored when running in bare mode.\n"
     ]
    },
    {
     "data": {
      "text/plain": [
       "DeltaGenerator()"
      ]
     },
     "execution_count": 94,
     "metadata": {},
     "output_type": "execute_result"
    },
    {
     "data": {
      "image/png": "[encoded data removed]",
      "text/plain": [
       "<Figure size 1000x500 with 1 Axes>"
      ]
     },
     "metadata": {},
     "output_type": "display_data"
    }
   ],
   "source": [
    "import streamlit as st\n",
    "import matplotlib.pyplot as plt\n",
    "\n",
    "st.subheader(\"📈 Sales Trends Over Time\")\n",
    "\n",
    "fig, ax = plt.subplots(figsize=(10, 5))\n",
    "monthly_sales.plot(kind='line', ax=ax)\n",
    "ax.set_title(\"Sales Trends Over Time\")\n",
    "ax.set_xlabel(\"Month\")\n",
    "ax.set_ylabel(\"Total Sales\")\n",
    "ax.grid(True)\n",
    "\n",
    "st.pyplot(fig)\n"
   ]
  },
  {
   "cell_type": "code",
   "execution_count": 110,
   "id": "baced5b7-1232-4154-828f-6d2c89f1147d",
   "metadata": {
    "scrolled": true
   },
   "outputs": [
    {
     "name": "stderr",
     "output_type": "stream",
     "text": [
      "2025-06-13 00:28:33.992 Thread 'MainThread': missing ScriptRunContext! This warning can be ignored when running in bare mode.\n",
      "2025-06-13 00:28:33.992 Thread 'MainThread': missing ScriptRunContext! This warning can be ignored when running in bare mode.\n",
      "2025-06-13 00:28:33.993 Thread 'MainThread': missing ScriptRunContext! This warning can be ignored when running in bare mode.\n",
      "2025-06-13 00:28:33.995 Thread 'MainThread': missing ScriptRunContext! This warning can be ignored when running in bare mode.\n"
     ]
    },
    {
     "data": {
      "text/plain": [
       "DeltaGenerator()"
      ]
     },
     "execution_count": 110,
     "metadata": {},
     "output_type": "execute_result"
    }
   ],
   "source": [
    "summary_text = generate_advanced_data_summary(df)  # Make sure this returns a STRING\n",
    "\n",
    "st.subheader(\"📋 Advanced Data Summary\")\n",
    "st.text(summary_text)  "
   ]
  },
  {
   "cell_type": "code",
   "execution_count": null,
   "id": "52b0d941-6a29-4e91-8f3d-41728e1208f4",
   "metadata": {},
   "outputs": [],
   "source": []
  }
 ],
 "metadata": {
  "kernelspec": {
   "display_name": "Python [conda env:anaconda3] *",
   "language": "python",
   "name": "conda-env-anaconda3-py"
  },
  "language_info": {
   "codemirror_mode": {
    "name": "ipython",
    "version": 3
   },
   "file_extension": ".py",
   "mimetype": "text/x-python",
   "name": "python",
   "nbconvert_exporter": "python",
   "pygments_lexer": "ipython3",
   "version": "3.11.11"
  }
 },
 "nbformat": 4,
 "nbformat_minor": 5
}
